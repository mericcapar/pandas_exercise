{
 "cells": [
  {
   "cell_type": "code",
   "execution_count": 4,
   "id": "657dc2f9",
   "metadata": {},
   "outputs": [
    {
     "name": "stdout",
     "output_type": "stream",
     "text": [
      "Requirement already satisfied: faker in /Users/mericcapar/anaconda3/lib/python3.11/site-packages (23.2.1)\n",
      "Requirement already satisfied: python-dateutil>=2.4 in /Users/mericcapar/anaconda3/lib/python3.11/site-packages (from faker) (2.8.2)\n",
      "Requirement already satisfied: six>=1.5 in /Users/mericcapar/anaconda3/lib/python3.11/site-packages (from python-dateutil>=2.4->faker) (1.16.0)\n",
      "Note: you may need to restart the kernel to use updated packages.\n"
     ]
    }
   ],
   "source": [
    "pip install faker"
   ]
  },
  {
   "cell_type": "code",
   "execution_count": 6,
   "id": "f7fa3823",
   "metadata": {},
   "outputs": [],
   "source": [
    "from faker import Faker\n",
    "fake = Faker('tr_TR')"
   ]
  },
  {
   "cell_type": "code",
   "execution_count": 7,
   "id": "c9ecb9ef",
   "metadata": {},
   "outputs": [
    {
     "data": {
      "text/plain": [
       "'Firdevis Korutürk'"
      ]
     },
     "execution_count": 7,
     "metadata": {},
     "output_type": "execute_result"
    }
   ],
   "source": [
    "fake.name()"
   ]
  },
  {
   "cell_type": "code",
   "execution_count": 17,
   "id": "9c2f85da",
   "metadata": {},
   "outputs": [
    {
     "name": "stdout",
     "output_type": "stream",
     "text": [
      "nzamettn55@example.com\n",
      "Sri Lanka\n",
      "Rengül Duran\n",
      "Accusamus repudiandae necessitatibus odio commodi delectus sequi. Recusandae eos libero rem molestias nesciunt eveniet.\n",
      "76.2226885 146.761813\n",
      "http://basf.org/\n"
     ]
    }
   ],
   "source": [
    "print(fake.email())\n",
    "print(fake.country())\n",
    "print(fake.name())\n",
    "print(fake.text())\n",
    "print(fake.latitude(), fake.longitude())\n",
    "print(fake.url())"
   ]
  },
  {
   "cell_type": "code",
   "execution_count": 18,
   "id": "776281fc",
   "metadata": {},
   "outputs": [
    {
     "data": {
      "text/plain": [
       "{'job': 'Gitarist',\n",
       " 'company': 'Arslan Akça Şti.',\n",
       " 'ssn': '84840866756',\n",
       " 'residence': '978 Şevketfeza Court Suite 868\\nNorth Yıldız, AR 22449',\n",
       " 'current_location': (Decimal('-85.165912'), Decimal('-114.229265')),\n",
       " 'blood_group': 'AB-',\n",
       " 'website': ['http://dumanli.net/'],\n",
       " 'username': 'erenalp96',\n",
       " 'name': 'Dr. İlper Arıpınar Bilgin Ertaş',\n",
       " 'sex': 'F',\n",
       " 'address': '6541 Sezgin Causeway\\nLake Meryemeburgh, SD 18826',\n",
       " 'mail': 'zerafet97@hotmail.com',\n",
       " 'birthdate': datetime.date(1921, 6, 6)}"
      ]
     },
     "execution_count": 18,
     "metadata": {},
     "output_type": "execute_result"
    }
   ],
   "source": [
    "fake.profile()"
   ]
  },
  {
   "cell_type": "code",
   "execution_count": 16,
   "id": "a603232c",
   "metadata": {},
   "outputs": [],
   "source": [
    "school_list = ['Fen Bilimleri', \"Akk Merkez\",\"Dayanisma Okullari\",'Bogazici','Gul Okullari','Portakal Okullari','Koyun Okullari',\n",
    "              'Sevgi Okullari','Maya Okullari','Spor Okullari'] #10 adet okul var.\n",
    "campus = ['Antalya','Isparta','Izmir','Mersin','Adana','Istanbul','Diyarbakir','Kayseri','Erzurum','Bandirma','Aydin',\n",
    "         'Gumushane','Kastamonu','Kocaeli','Karaman','Marmaris','Eskisehir','Izmit','Adiyaman','Hatay']#20 adet campus var\n"
   ]
  },
  {
   "cell_type": "code",
   "execution_count": 82,
   "id": "4057a684",
   "metadata": {},
   "outputs": [
    {
     "data": {
      "text/html": [
       "<div>\n",
       "<style scoped>\n",
       "    .dataframe tbody tr th:only-of-type {\n",
       "        vertical-align: middle;\n",
       "    }\n",
       "\n",
       "    .dataframe tbody tr th {\n",
       "        vertical-align: top;\n",
       "    }\n",
       "\n",
       "    .dataframe thead th {\n",
       "        text-align: right;\n",
       "    }\n",
       "</style>\n",
       "<table border=\"1\" class=\"dataframe\">\n",
       "  <thead>\n",
       "    <tr style=\"text-align: right;\">\n",
       "      <th></th>\n",
       "      <th>School Name</th>\n",
       "      <th>Campus</th>\n",
       "      <th>Grade</th>\n",
       "      <th>Student ID</th>\n",
       "      <th>Student Name</th>\n",
       "      <th>Lesson Attended</th>\n",
       "      <th>Total Lessons</th>\n",
       "      <th>Attendance Percentage</th>\n",
       "    </tr>\n",
       "  </thead>\n",
       "  <tbody>\n",
       "    <tr>\n",
       "      <th>0</th>\n",
       "      <td>Fen Bilimleri</td>\n",
       "      <td>Kastamonu</td>\n",
       "      <td>7.0</td>\n",
       "      <td>4557.0</td>\n",
       "      <td>Dr. Mahigül Züheyla Şener</td>\n",
       "      <td>5.0</td>\n",
       "      <td>20.0</td>\n",
       "      <td>25.0</td>\n",
       "    </tr>\n",
       "    <tr>\n",
       "      <th>1</th>\n",
       "      <td>Bogazici</td>\n",
       "      <td>Aydin</td>\n",
       "      <td>8.0</td>\n",
       "      <td>9325.0</td>\n",
       "      <td>Arş. Gör. Denkel Korutürk</td>\n",
       "      <td>1.0</td>\n",
       "      <td>20.0</td>\n",
       "      <td>5.0</td>\n",
       "    </tr>\n",
       "    <tr>\n",
       "      <th>2</th>\n",
       "      <td>Koyun Okullari</td>\n",
       "      <td>Izmit</td>\n",
       "      <td>10.0</td>\n",
       "      <td>4482.0</td>\n",
       "      <td>Beyler Mevlüt Tevetoğlu Arslan</td>\n",
       "      <td>7.0</td>\n",
       "      <td>20.0</td>\n",
       "      <td>35.0</td>\n",
       "    </tr>\n",
       "    <tr>\n",
       "      <th>3</th>\n",
       "      <td>Sevgi Okullari</td>\n",
       "      <td>Aydin</td>\n",
       "      <td>10.0</td>\n",
       "      <td>4118.0</td>\n",
       "      <td>Çağlar Kısakürek</td>\n",
       "      <td>19.0</td>\n",
       "      <td>20.0</td>\n",
       "      <td>95.0</td>\n",
       "    </tr>\n",
       "    <tr>\n",
       "      <th>4</th>\n",
       "      <td>Dayanisma Okullari</td>\n",
       "      <td>Marmaris</td>\n",
       "      <td>8.0</td>\n",
       "      <td>8648.0</td>\n",
       "      <td>Rasul Elöve Akçay Dumanlı</td>\n",
       "      <td>6.0</td>\n",
       "      <td>20.0</td>\n",
       "      <td>30.0</td>\n",
       "    </tr>\n",
       "    <tr>\n",
       "      <th>...</th>\n",
       "      <td>...</td>\n",
       "      <td>...</td>\n",
       "      <td>...</td>\n",
       "      <td>...</td>\n",
       "      <td>...</td>\n",
       "      <td>...</td>\n",
       "      <td>...</td>\n",
       "      <td>...</td>\n",
       "    </tr>\n",
       "    <tr>\n",
       "      <th>245</th>\n",
       "      <td>Gul Okullari</td>\n",
       "      <td>Isparta</td>\n",
       "      <td>11.0</td>\n",
       "      <td>1432.0</td>\n",
       "      <td>Günden Kısakürek</td>\n",
       "      <td>8.0</td>\n",
       "      <td>20.0</td>\n",
       "      <td>40.0</td>\n",
       "    </tr>\n",
       "    <tr>\n",
       "      <th>246</th>\n",
       "      <td>Fen Bilimleri</td>\n",
       "      <td>Aydin</td>\n",
       "      <td>2.0</td>\n",
       "      <td>5156.0</td>\n",
       "      <td>Börteçin Karadeniz</td>\n",
       "      <td>2.0</td>\n",
       "      <td>20.0</td>\n",
       "      <td>10.0</td>\n",
       "    </tr>\n",
       "    <tr>\n",
       "      <th>247</th>\n",
       "      <td>Akk Merkez</td>\n",
       "      <td>Adana</td>\n",
       "      <td>4.0</td>\n",
       "      <td>9261.0</td>\n",
       "      <td>Güçal Çelikkan Akdeniz Seven</td>\n",
       "      <td>1.0</td>\n",
       "      <td>20.0</td>\n",
       "      <td>5.0</td>\n",
       "    </tr>\n",
       "    <tr>\n",
       "      <th>248</th>\n",
       "      <td>Bogazici</td>\n",
       "      <td>Eskisehir</td>\n",
       "      <td>11.0</td>\n",
       "      <td>3560.0</td>\n",
       "      <td>Temime Demir Manço</td>\n",
       "      <td>3.0</td>\n",
       "      <td>20.0</td>\n",
       "      <td>15.0</td>\n",
       "    </tr>\n",
       "    <tr>\n",
       "      <th>249</th>\n",
       "      <td>Fen Bilimleri</td>\n",
       "      <td>Aydin</td>\n",
       "      <td>6.0</td>\n",
       "      <td>7333.0</td>\n",
       "      <td>Uz. Günaydin Edgübay Seven</td>\n",
       "      <td>1.0</td>\n",
       "      <td>20.0</td>\n",
       "      <td>5.0</td>\n",
       "    </tr>\n",
       "  </tbody>\n",
       "</table>\n",
       "<p>250 rows × 8 columns</p>\n",
       "</div>"
      ],
      "text/plain": [
       "            School Name     Campus  Grade  Student ID  \\\n",
       "0         Fen Bilimleri  Kastamonu    7.0      4557.0   \n",
       "1              Bogazici      Aydin    8.0      9325.0   \n",
       "2        Koyun Okullari      Izmit   10.0      4482.0   \n",
       "3        Sevgi Okullari      Aydin   10.0      4118.0   \n",
       "4    Dayanisma Okullari   Marmaris    8.0      8648.0   \n",
       "..                  ...        ...    ...         ...   \n",
       "245        Gul Okullari    Isparta   11.0      1432.0   \n",
       "246       Fen Bilimleri      Aydin    2.0      5156.0   \n",
       "247          Akk Merkez      Adana    4.0      9261.0   \n",
       "248            Bogazici  Eskisehir   11.0      3560.0   \n",
       "249       Fen Bilimleri      Aydin    6.0      7333.0   \n",
       "\n",
       "                       Student Name  Lesson Attended  Total Lessons  \\\n",
       "0         Dr. Mahigül Züheyla Şener              5.0           20.0   \n",
       "1         Arş. Gör. Denkel Korutürk              1.0           20.0   \n",
       "2    Beyler Mevlüt Tevetoğlu Arslan              7.0           20.0   \n",
       "3                  Çağlar Kısakürek             19.0           20.0   \n",
       "4         Rasul Elöve Akçay Dumanlı              6.0           20.0   \n",
       "..                              ...              ...            ...   \n",
       "245                Günden Kısakürek              8.0           20.0   \n",
       "246              Börteçin Karadeniz              2.0           20.0   \n",
       "247    Güçal Çelikkan Akdeniz Seven              1.0           20.0   \n",
       "248              Temime Demir Manço              3.0           20.0   \n",
       "249      Uz. Günaydin Edgübay Seven              1.0           20.0   \n",
       "\n",
       "     Attendance Percentage  \n",
       "0                     25.0  \n",
       "1                      5.0  \n",
       "2                     35.0  \n",
       "3                     95.0  \n",
       "4                     30.0  \n",
       "..                     ...  \n",
       "245                   40.0  \n",
       "246                   10.0  \n",
       "247                    5.0  \n",
       "248                   15.0  \n",
       "249                    5.0  \n",
       "\n",
       "[250 rows x 8 columns]"
      ]
     },
     "execution_count": 82,
     "metadata": {},
     "output_type": "execute_result"
    }
   ],
   "source": [
    "from random import randint \n",
    "import pandas as pd \n",
    "\n",
    "data = pd.DataFrame()\n",
    "for i in range(0, 250):\n",
    "    for j in range(0,1):\n",
    "        data.loc[i,'School Name']= fake.word(ext_word_list = school_list)\n",
    "    for j in range(0,1):\n",
    "        data.loc[i,'Campus']= fake.word(ext_word_list = campus)\n",
    "    \n",
    "    data.loc[i,'Grade']= round(randint(1,11))\n",
    "    data.loc[i,'Student ID']= randint(1000,9999)\n",
    "    data.loc[i,'Student Name'] = fake.name()\n",
    "    data.loc[i,'Lesson Attended'] = randint(1,20)\n",
    "    data.loc[i,'Total Lessons'] = 20\n",
    "    data.loc[i,'Attendance Percentage'] = (data.loc[i,'Lesson Attended'] / data.loc[i,'Total Lessons']) * 100\n",
    "data\n",
    "   \n",
    "\n"
   ]
  },
  {
   "cell_type": "code",
   "execution_count": null,
   "id": "bdd2507f",
   "metadata": {},
   "outputs": [],
   "source": [
    "#Cevap aranan sorular:\n",
    "\n",
    "Kac farkli okul kaydimiz var?\n",
    "*Hangi okullarin birden fazla kampusu olabilir?\n",
    "*Hangi okuldan kac farkli sinif kaydimiz var? #?\n",
    "*Hangi okuldan kac farkli derecede ogrenci kaydimiz var (1, 2, 3 ,4. sinif vs) #?\n",
    "*Kardesiyle birlikte kaydolmus olan ogrenci olma olasiligi hangisi? #?\n",
    "*Hangi okul en cok/en az ogrenci katilim yuzdesine sahip?\n",
    "*Hangi okuldan hangi sinif en cok/en az ogrenci katilim yuzdesine sahip?\n",
    "*En cok/en az katilim kacinci siniflarda oluyor?\n",
    "*Tum okullar bazinda en cok/ en az hangi ogrenci derslere katilim saglamis?\n"
   ]
  },
  {
   "cell_type": "code",
   "execution_count": 83,
   "id": "811fcd17",
   "metadata": {},
   "outputs": [
    {
     "data": {
      "text/plain": [
       "10"
      ]
     },
     "execution_count": 83,
     "metadata": {},
     "output_type": "execute_result"
    }
   ],
   "source": [
    "len(data['School Name'].unique())"
   ]
  },
  {
   "cell_type": "code",
   "execution_count": 84,
   "id": "d47d6552",
   "metadata": {},
   "outputs": [
    {
     "data": {
      "text/plain": [
       "School Name\n",
       "Akk Merkez            16\n",
       "Bogazici              16\n",
       "Dayanisma Okullari    15\n",
       "Fen Bilimleri         16\n",
       "Gul Okullari          16\n",
       "Koyun Okullari        11\n",
       "Maya Okullari         18\n",
       "Portakal Okullari     14\n",
       "Sevgi Okullari        14\n",
       "Spor Okullari          8\n",
       "Name: Campus, dtype: int64"
      ]
     },
     "execution_count": 84,
     "metadata": {},
     "output_type": "execute_result"
    }
   ],
   "source": [
    "data.groupby('School Name')['Campus'].nunique() #Birden fazla kampusu olan ve campus sayilari"
   ]
  },
  {
   "cell_type": "code",
   "execution_count": 85,
   "id": "4bc32e33",
   "metadata": {},
   "outputs": [
    {
     "data": {
      "text/plain": [
       "School Name\n",
       "Akk Merkez            10\n",
       "Bogazici              10\n",
       "Dayanisma Okullari    11\n",
       "Fen Bilimleri         10\n",
       "Gul Okullari          11\n",
       "Koyun Okullari         9\n",
       "Maya Okullari         10\n",
       "Portakal Okullari     10\n",
       "Sevgi Okullari        10\n",
       "Spor Okullari          8\n",
       "Name: Grade, dtype: int64"
      ]
     },
     "execution_count": 85,
     "metadata": {},
     "output_type": "execute_result"
    }
   ],
   "source": [
    "data.groupby('School Name')['Grade'].nunique() #?"
   ]
  },
  {
   "cell_type": "code",
   "execution_count": 86,
   "id": "fb81aa75",
   "metadata": {},
   "outputs": [
    {
     "name": "stdout",
     "output_type": "stream",
     "text": [
      "School Name\n",
      "Akk Merkez            54.166667\n",
      "Bogazici              47.500000\n",
      "Dayanisma Okullari    48.888889\n",
      "Fen Bilimleri         54.677419\n",
      "Gul Okullari          57.857143\n",
      "Koyun Okullari        45.526316\n",
      "Maya Okullari         39.400000\n",
      "Portakal Okullari     43.863636\n",
      "Sevgi Okullari        62.391304\n",
      "Spor Okullari         48.636364\n",
      "Name: Attendance Percentage, dtype: float64\n"
     ]
    }
   ],
   "source": [
    "ortalama_katilim_yuzdesi = data.groupby('School Name')['Attendance Percentage'].mean() \n",
    "print(ortalama_katilim_yuzdesi)\n",
    "#En yuksek katilimli okulu bulmak icin birden fazla sinif oldugundan dolayi ortalama katilimi aldik."
   ]
  },
  {
   "cell_type": "code",
   "execution_count": 87,
   "id": "953316a6",
   "metadata": {},
   "outputs": [
    {
     "name": "stdout",
     "output_type": "stream",
     "text": [
      "Sevgi Okullari\n",
      "62.391304347826086\n"
     ]
    }
   ],
   "source": [
    "#Burada gpt den yardim aldim. \n",
    "#idxmax i ilk kez duyuyorum.\n",
    "en_yuksek_katilimli_okul = ortalama_katilim_yuzdesi.idxmax()\n",
    "en_yuksek_katilim_yuzdesi = ortalama_katilim_yuzdesi.max()\n",
    "print(en_yuksek_katilim_okulu)\n",
    "print(en_yuksek_katilim_yuzdesi)"
   ]
  },
  {
   "cell_type": "code",
   "execution_count": null,
   "id": "614dca7a",
   "metadata": {},
   "outputs": [],
   "source": []
  }
 ],
 "metadata": {
  "kernelspec": {
   "display_name": "Python 3 (ipykernel)",
   "language": "python",
   "name": "python3"
  },
  "language_info": {
   "codemirror_mode": {
    "name": "ipython",
    "version": 3
   },
   "file_extension": ".py",
   "mimetype": "text/x-python",
   "name": "python",
   "nbconvert_exporter": "python",
   "pygments_lexer": "ipython3",
   "version": "3.11.5"
  }
 },
 "nbformat": 4,
 "nbformat_minor": 5
}
